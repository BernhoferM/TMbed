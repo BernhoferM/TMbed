{
  "cells": [
    {
      "cell_type": "markdown",
      "metadata": {},
      "source": [
        "# Using TMbed on Google Colab\n",
        "\n",
        "Ensure you have a runtime with GPU enabled.\n",
        "Substitute any file paths with the paths to your own files.\n"
      ]
    },
    {
      "cell_type": "code",
      "execution_count": null,
      "metadata": {
        "colab": {
          "base_uri": "https://localhost:8080/"
        },
        "id": "HX3cCLQr2wcU",
        "outputId": "59b106a3-2629-402e-9d2b-6d074c4c5f10"
      },
      "outputs": [],
      "source": [
        "!git clone https://github.com/BernhoferM/TMbed.git tmbed\n",
        "!cd tmbed && pip install ."
      ]
    },
    {
      "cell_type": "code",
      "execution_count": null,
      "metadata": {
        "colab": {
          "base_uri": "https://localhost:8080/"
        },
        "id": "Uxyqk6Xh9gpw",
        "outputId": "3e31d7ce-3538-4425-f6e9-9b5f7195bc5a"
      },
      "outputs": [],
      "source": [
        "!CUBLAS_WORKSPACE_CONFIG=\":4096:8\" python -m tmbed embed -f tmbed/examples/sample.fasta -e tmbed/examples/sample.h5"
      ]
    },
    {
      "cell_type": "code",
      "execution_count": null,
      "metadata": {
        "colab": {
          "base_uri": "https://localhost:8080/"
        },
        "id": "IivPSGjK3qUj",
        "outputId": "723ec500-9aa1-4137-cb15-66df40f4135f"
      },
      "outputs": [],
      "source": [
        "!CUBLAS_WORKSPACE_CONFIG=\":4096:8\" python -m tmbed predict -f tmbed/examples/sample.fasta -e tmbed/examples/sample.h5 -p tmbed/examples/sample.pred --batch-size 5000 --use-gpu"
      ]
    }
  ],
  "metadata": {
    "accelerator": "GPU",
    "colab": {
      "gpuType": "T4",
      "provenance": []
    },
    "kernelspec": {
      "display_name": "Python 3",
      "name": "python3"
    },
    "language_info": {
      "name": "python"
    }
  },
  "nbformat": 4,
  "nbformat_minor": 0
}
